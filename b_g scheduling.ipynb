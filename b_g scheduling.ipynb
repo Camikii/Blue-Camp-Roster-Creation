{
 "cells": [
  {
   "cell_type": "code",
   "execution_count": 1,
   "metadata": {},
   "outputs": [],
   "source": [
    "import pandas as pd\n",
    "import openpyxl\n",
    "from openpyxl import Workbook\n",
    "import getpass"
   ]
  },
  {
   "attachments": {},
   "cell_type": "markdown",
   "metadata": {},
   "source": [
    "Importing Camper Dataset"
   ]
  },
  {
   "cell_type": "code",
   "execution_count": 2,
   "metadata": {},
   "outputs": [],
   "source": [
    "def clean_dataframe(df):\n",
    "    for time in [\"9:00 AM\", \"10:00 AM\",\"11:00 AM\",\"1:00 PM\", \"2:00 PM\",\"3:00 PM\"]:\n",
    "        lst = df[time]\n",
    "        df[time]  = [x.rstrip() for x in lst]\n",
    "    return df"
   ]
  },
  {
   "cell_type": "code",
   "execution_count": 3,
   "metadata": {},
   "outputs": [],
   "source": [
    "def get_unique_classes_and_times(camper_df):\n",
    "    hourly_class_dict = {\"9:00 AM\":[],\"10:00 AM\":[],\"11:00 AM\":[],\"1:00 PM\":[],\"2:00 PM\":[],\"3:00 PM\":[]}\n",
    "    for key in hourly_class_dict:\n",
    "        #getting classes in a given hour\n",
    "        classes = camper_df[key].tolist()\n",
    "        #dropping any whitespace\n",
    "        classes = [x.rstrip() for x in classes]\n",
    "        #getting unique values\n",
    "        unique_classes = list(set(classes))\n",
    "        #assigning unique classes to dictionary\n",
    "        hourly_class_dict[key] = unique_classes\n",
    "    return hourly_class_dict\n"
   ]
  },
  {
   "cell_type": "code",
   "execution_count": 4,
   "metadata": {},
   "outputs": [],
   "source": [
    "#### column = A,B,C values = values to add\n",
    "def add_column(sheet, column, values):\n",
    "    values = list(values)\n",
    "    for i in range(len(values)):\n",
    "        value = column + str(i+2)\n",
    "        sheet[value] = values[i]"
   ]
  },
  {
   "cell_type": "code",
   "execution_count": 5,
   "metadata": {},
   "outputs": [],
   "source": [
    "def new_roster(participant_df,name,hour,course):\n",
    "    workbook = openpyxl.load_workbook('correct template.xlsx')\n",
    "    sheets = workbook.active\n",
    "    #adding camper names and sign out option\n",
    "    participant_df = participant_df.sort_values(\"Last Name\")\n",
    "    add_column(sheets,\"A\",participant_df[\"First Name\"])\n",
    "    add_column(sheets,\"B\",participant_df[\"Last Name\"])\n",
    "    add_column(sheets,\"C\",participant_df[\"Check Out Option\"])\n",
    "    #add activity name to check-in, out, and attendence \n",
    "    check_in = workbook[\"Check In\"]\n",
    "    check_in[\"A9\"] = course\n",
    "\n",
    "    check_out = workbook[\"Checkout\"]\n",
    "    check_out[\"A9\"] = course\n",
    "    \n",
    "    attendence = workbook[\"Attendence Roster \"]\n",
    "    attendence[\"B1\"] = hour+ \" Activity Roster\"\n",
    "    attendence[\"B5\"] = course\n",
    "\n",
    "\n",
    "    save_path = '/Users/'+getpass.getuser()+'/Documents/Blue Camp/Output/'+name + '.xlsx'\n",
    "    workbook.save(filename=save_path)\n"
   ]
  },
  {
   "cell_type": "code",
   "execution_count": 6,
   "metadata": {},
   "outputs": [],
   "source": [
    "def roster_iterator(classes_dict,participants):\n",
    "    for key in classes_dict:\n",
    "        for course in classes_dict[key]:\n",
    "            roster_name = key + \" \" + course\n",
    "            class_participants_df = participants[participants[key]==course]\n",
    "            new_roster(class_participants_df,roster_name,key,course)"
   ]
  },
  {
   "attachments": {},
   "cell_type": "markdown",
   "metadata": {},
   "source": [
    "Pulling it all together"
   ]
  },
  {
   "cell_type": "code",
   "execution_count": 7,
   "metadata": {},
   "outputs": [],
   "source": [
    "def create_rosters(camper_path):\n",
    "    #reading in camper data\n",
    "    campers_df = pd.read_csv(camper_path)\n",
    "    campers_df = clean_dataframe(campers_df)\n",
    "    #getting unique classes\n",
    "    unique_classes_dict = get_unique_classes_and_times(campers_df)\n",
    "    #iteratively generating rosters\n",
    "    roster_iterator(unique_classes_dict,campers_df)"
   ]
  },
  {
   "attachments": {},
   "cell_type": "markdown",
   "metadata": {},
   "source": [
    "Calling Function"
   ]
  },
  {
   "cell_type": "code",
   "execution_count": 8,
   "metadata": {},
   "outputs": [],
   "source": [
    "create_rosters('/Users/cameronfaulkner/Downloads/B&G Session 4 (Weeks 7&8) 2023 - B_G W8 (One Weekers).csv')"
   ]
  },
  {
   "cell_type": "code",
   "execution_count": null,
   "metadata": {},
   "outputs": [],
   "source": []
  }
 ],
 "metadata": {
  "kernelspec": {
   "display_name": "base",
   "language": "python",
   "name": "python3"
  },
  "language_info": {
   "codemirror_mode": {
    "name": "ipython",
    "version": 3
   },
   "file_extension": ".py",
   "mimetype": "text/x-python",
   "name": "python",
   "nbconvert_exporter": "python",
   "pygments_lexer": "ipython3",
   "version": "3.9.7"
  },
  "orig_nbformat": 4
 },
 "nbformat": 4,
 "nbformat_minor": 2
}
