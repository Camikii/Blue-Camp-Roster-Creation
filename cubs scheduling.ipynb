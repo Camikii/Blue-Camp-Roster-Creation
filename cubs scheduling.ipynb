{
 "cells": [
  {
   "cell_type": "code",
   "execution_count": 22,
   "metadata": {},
   "outputs": [],
   "source": [
    "import pandas as pd\n",
    "import openpyxl\n",
    "from openpyxl import Workbook\n",
    "import getpass"
   ]
  },
  {
   "attachments": {},
   "cell_type": "markdown",
   "metadata": {},
   "source": [
    "Importing Camper Dataset"
   ]
  },
  {
   "cell_type": "code",
   "execution_count": 23,
   "metadata": {},
   "outputs": [],
   "source": [
    "def get_unique_groups(camper_df):\n",
    "    groups = camper_df[\"Group\"].tolist()\n",
    "    groups = [x.rstrip() for x in groups]\n",
    "    return groups"
   ]
  },
  {
   "cell_type": "code",
   "execution_count": 24,
   "metadata": {},
   "outputs": [],
   "source": [
    "#### column = A,B,C values = values to add\n",
    "def add_column(sheet, column, values):\n",
    "    values = list(values)\n",
    "    for i in range(len(values)):\n",
    "        value = column + str(i+2)\n",
    "        sheet[value] = values[i]"
   ]
  },
  {
   "cell_type": "code",
   "execution_count": 25,
   "metadata": {},
   "outputs": [],
   "source": [
    "def new_roster(participant_df,group): #group instead of course\n",
    "    workbook = openpyxl.load_workbook('/Users/cameronfaulkner/Downloads/blank roster.xlsx')\n",
    "    sheets = workbook.active\n",
    "    #adding camper names and sign out option\n",
    "    participant_df = participant_df.sort_values(\"Last\")\n",
    "    add_column(sheets,\"A\",participant_df[\"First\"])\n",
    "    add_column(sheets,\"B\",participant_df[\"Last\"])\n",
    "    add_column(sheets,\"C\",participant_df[\"Sign Out\"])\n",
    "    #add activity name to check-in, out, and attendence \n",
    "    check_in = workbook[\"Check In\"]\n",
    "    check_in[\"A9\"] = group\n",
    "\n",
    "    check_out = workbook[\"Checkout\"]\n",
    "    check_out[\"A9\"] = group\n",
    "    \n",
    "    attendence = workbook[\"Attendence Roster \"]\n",
    "    attendence[\"B1\"] = \"Activity Roster\"\n",
    "    attendence[\"B5\"] = group\n",
    "\n",
    "\n",
    "    save_path = '/Users/'+getpass.getuser()+'/Documents/Blue Camp/Output/'+group + '.xlsx'\n",
    "    workbook.save(filename=save_path)\n"
   ]
  },
  {
   "cell_type": "code",
   "execution_count": 26,
   "metadata": {},
   "outputs": [],
   "source": [
    "def roster_iterator(group_list,participants):\n",
    "    for group in group_list:\n",
    "        group_df = participants[participants[\"Group\"]==group]\n",
    "        new_roster(group_df,group)"
   ]
  },
  {
   "attachments": {},
   "cell_type": "markdown",
   "metadata": {},
   "source": [
    "Pulling it all together"
   ]
  },
  {
   "cell_type": "code",
   "execution_count": 27,
   "metadata": {},
   "outputs": [],
   "source": [
    "def create_rosters(camper_path):\n",
    "    #reading in camper data\n",
    "    campers_df = pd.read_csv(camper_path)\n",
    "    #getting unique groups\n",
    "    group_list = get_unique_groups(campers_df)\n",
    "    #iteratively generating rosters\n",
    "    roster_iterator(group_list,campers_df)"
   ]
  },
  {
   "attachments": {},
   "cell_type": "markdown",
   "metadata": {},
   "source": [
    "Calling Function"
   ]
  },
  {
   "cell_type": "code",
   "execution_count": 28,
   "metadata": {},
   "outputs": [],
   "source": [
    "create_rosters('/Users/cameronfaulkner/Downloads/2023 Cubs Groups Session IV - Nametags.csv')"
   ]
  }
 ],
 "metadata": {
  "kernelspec": {
   "display_name": "base",
   "language": "python",
   "name": "python3"
  },
  "language_info": {
   "codemirror_mode": {
    "name": "ipython",
    "version": 3
   },
   "file_extension": ".py",
   "mimetype": "text/x-python",
   "name": "python",
   "nbconvert_exporter": "python",
   "pygments_lexer": "ipython3",
   "version": "3.9.7"
  },
  "orig_nbformat": 4
 },
 "nbformat": 4,
 "nbformat_minor": 2
}
